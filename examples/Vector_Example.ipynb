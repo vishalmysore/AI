{
  "nbformat": 4,
  "nbformat_minor": 0,
  "metadata": {
    "colab": {
      "provenance": [],
      "authorship_tag": "ABX9TyOzty3I1fH6n17SvF4//s7c",
      "include_colab_link": true
    },
    "kernelspec": {
      "name": "python3",
      "display_name": "Python 3"
    },
    "language_info": {
      "name": "python"
    }
  },
  "cells": [
    {
      "cell_type": "markdown",
      "metadata": {
        "id": "view-in-github",
        "colab_type": "text"
      },
      "source": [
        "<a href=\"https://colab.research.google.com/github/vishalmysore/AI/blob/main/Vector_Example.ipynb\" target=\"_parent\"><img src=\"https://colab.research.google.com/assets/colab-badge.svg\" alt=\"Open In Colab\"/></a>"
      ]
    },
    {
      "cell_type": "code",
      "source": [
        "!pip install datasets word2vec\n",
        "!pip install --upgrade gensim"
      ],
      "metadata": {
        "colab": {
          "base_uri": "https://localhost:8080/"
        },
        "id": "1UKS5oCDLkT2",
        "outputId": "1e6433e7-63b0-4ea4-bcf7-8c516c098246"
      },
      "execution_count": 2,
      "outputs": [
        {
          "output_type": "stream",
          "name": "stdout",
          "text": [
            "Collecting datasets\n",
            "  Downloading datasets-2.16.0-py3-none-any.whl (507 kB)\n",
            "\u001b[2K     \u001b[90m━━━━━━━━━━━━━━━━━━━━━━━━━━━━━━━━━━━━━━━━\u001b[0m \u001b[32m507.1/507.1 kB\u001b[0m \u001b[31m6.5 MB/s\u001b[0m eta \u001b[36m0:00:00\u001b[0m\n",
            "\u001b[?25hCollecting word2vec\n",
            "  Downloading word2vec-0.11.1.tar.gz (42 kB)\n",
            "\u001b[2K     \u001b[90m━━━━━━━━━━━━━━━━━━━━━━━━━━━━━━━━━━━━━━━━\u001b[0m \u001b[32m42.3/42.3 kB\u001b[0m \u001b[31m4.4 MB/s\u001b[0m eta \u001b[36m0:00:00\u001b[0m\n",
            "\u001b[?25h  Installing build dependencies ... \u001b[?25l\u001b[?25hdone\n",
            "  Getting requirements to build wheel ... \u001b[?25l\u001b[?25hdone\n",
            "  Preparing metadata (pyproject.toml) ... \u001b[?25l\u001b[?25hdone\n",
            "Requirement already satisfied: filelock in /usr/local/lib/python3.10/dist-packages (from datasets) (3.13.1)\n",
            "Requirement already satisfied: numpy>=1.17 in /usr/local/lib/python3.10/dist-packages (from datasets) (1.23.5)\n",
            "Requirement already satisfied: pyarrow>=8.0.0 in /usr/local/lib/python3.10/dist-packages (from datasets) (10.0.1)\n",
            "Collecting pyarrow-hotfix (from datasets)\n",
            "  Downloading pyarrow_hotfix-0.6-py3-none-any.whl (7.9 kB)\n",
            "Collecting dill<0.3.8,>=0.3.0 (from datasets)\n",
            "  Downloading dill-0.3.7-py3-none-any.whl (115 kB)\n",
            "\u001b[2K     \u001b[90m━━━━━━━━━━━━━━━━━━━━━━━━━━━━━━━━━━━━━━━━\u001b[0m \u001b[32m115.3/115.3 kB\u001b[0m \u001b[31m11.5 MB/s\u001b[0m eta \u001b[36m0:00:00\u001b[0m\n",
            "\u001b[?25hRequirement already satisfied: pandas in /usr/local/lib/python3.10/dist-packages (from datasets) (1.5.3)\n",
            "Requirement already satisfied: requests>=2.19.0 in /usr/local/lib/python3.10/dist-packages (from datasets) (2.31.0)\n",
            "Requirement already satisfied: tqdm>=4.62.1 in /usr/local/lib/python3.10/dist-packages (from datasets) (4.66.1)\n",
            "Requirement already satisfied: xxhash in /usr/local/lib/python3.10/dist-packages (from datasets) (3.4.1)\n",
            "Collecting multiprocess (from datasets)\n",
            "  Downloading multiprocess-0.70.15-py310-none-any.whl (134 kB)\n",
            "\u001b[2K     \u001b[90m━━━━━━━━━━━━━━━━━━━━━━━━━━━━━━━━━━━━━━━━\u001b[0m \u001b[32m134.8/134.8 kB\u001b[0m \u001b[31m12.9 MB/s\u001b[0m eta \u001b[36m0:00:00\u001b[0m\n",
            "\u001b[?25hRequirement already satisfied: fsspec[http]<=2023.10.0,>=2023.1.0 in /usr/local/lib/python3.10/dist-packages (from datasets) (2023.6.0)\n",
            "Requirement already satisfied: aiohttp in /usr/local/lib/python3.10/dist-packages (from datasets) (3.9.1)\n",
            "Requirement already satisfied: huggingface-hub>=0.19.4 in /usr/local/lib/python3.10/dist-packages (from datasets) (0.19.4)\n",
            "Requirement already satisfied: packaging in /usr/local/lib/python3.10/dist-packages (from datasets) (23.2)\n",
            "Requirement already satisfied: pyyaml>=5.1 in /usr/local/lib/python3.10/dist-packages (from datasets) (6.0.1)\n",
            "Requirement already satisfied: joblib in /usr/local/lib/python3.10/dist-packages (from word2vec) (1.3.2)\n",
            "Requirement already satisfied: attrs>=17.3.0 in /usr/local/lib/python3.10/dist-packages (from aiohttp->datasets) (23.1.0)\n",
            "Requirement already satisfied: multidict<7.0,>=4.5 in /usr/local/lib/python3.10/dist-packages (from aiohttp->datasets) (6.0.4)\n",
            "Requirement already satisfied: yarl<2.0,>=1.0 in /usr/local/lib/python3.10/dist-packages (from aiohttp->datasets) (1.9.4)\n",
            "Requirement already satisfied: frozenlist>=1.1.1 in /usr/local/lib/python3.10/dist-packages (from aiohttp->datasets) (1.4.1)\n",
            "Requirement already satisfied: aiosignal>=1.1.2 in /usr/local/lib/python3.10/dist-packages (from aiohttp->datasets) (1.3.1)\n",
            "Requirement already satisfied: async-timeout<5.0,>=4.0 in /usr/local/lib/python3.10/dist-packages (from aiohttp->datasets) (4.0.3)\n",
            "Requirement already satisfied: typing-extensions>=3.7.4.3 in /usr/local/lib/python3.10/dist-packages (from huggingface-hub>=0.19.4->datasets) (4.5.0)\n",
            "Requirement already satisfied: charset-normalizer<4,>=2 in /usr/local/lib/python3.10/dist-packages (from requests>=2.19.0->datasets) (3.3.2)\n",
            "Requirement already satisfied: idna<4,>=2.5 in /usr/local/lib/python3.10/dist-packages (from requests>=2.19.0->datasets) (3.6)\n",
            "Requirement already satisfied: urllib3<3,>=1.21.1 in /usr/local/lib/python3.10/dist-packages (from requests>=2.19.0->datasets) (2.0.7)\n",
            "Requirement already satisfied: certifi>=2017.4.17 in /usr/local/lib/python3.10/dist-packages (from requests>=2.19.0->datasets) (2023.11.17)\n",
            "Requirement already satisfied: python-dateutil>=2.8.1 in /usr/local/lib/python3.10/dist-packages (from pandas->datasets) (2.8.2)\n",
            "Requirement already satisfied: pytz>=2020.1 in /usr/local/lib/python3.10/dist-packages (from pandas->datasets) (2023.3.post1)\n",
            "Requirement already satisfied: six>=1.5 in /usr/local/lib/python3.10/dist-packages (from python-dateutil>=2.8.1->pandas->datasets) (1.16.0)\n",
            "Building wheels for collected packages: word2vec\n",
            "  Building wheel for word2vec (pyproject.toml) ... \u001b[?25l\u001b[?25hdone\n",
            "  Created wheel for word2vec: filename=word2vec-0.11.1-py2.py3-none-any.whl size=141242 sha256=003bcdcedf81af4c79e48a1d7eecf8fcfaa123e20a0b81e6ef25dbc9112e08df\n",
            "  Stored in directory: /root/.cache/pip/wheels/6a/fa/d1/e03e8c10e0e2aa5c7b6e2b46b4a1c715d140283853937bb4b1\n",
            "Successfully built word2vec\n",
            "Installing collected packages: word2vec, pyarrow-hotfix, dill, multiprocess, datasets\n",
            "Successfully installed datasets-2.16.0 dill-0.3.7 multiprocess-0.70.15 pyarrow-hotfix-0.6 word2vec-0.11.1\n",
            "Requirement already satisfied: gensim in /usr/local/lib/python3.10/dist-packages (4.3.2)\n",
            "Requirement already satisfied: numpy>=1.18.5 in /usr/local/lib/python3.10/dist-packages (from gensim) (1.23.5)\n",
            "Requirement already satisfied: scipy>=1.7.0 in /usr/local/lib/python3.10/dist-packages (from gensim) (1.11.4)\n",
            "Requirement already satisfied: smart-open>=1.8.1 in /usr/local/lib/python3.10/dist-packages (from gensim) (6.4.0)\n"
          ]
        }
      ]
    },
    {
      "cell_type": "code",
      "execution_count": 3,
      "metadata": {
        "id": "aeqHZ6yLLdDX"
      },
      "outputs": [],
      "source": [
        "from datasets import load_dataset\n",
        "from gensim.models import Word2Vec\n",
        "from gensim.utils import simple_preprocess"
      ]
    },
    {
      "cell_type": "code",
      "source": [
        "dataset = load_dataset('stas/openwebtext-10k', split='train[:2000]')"
      ],
      "metadata": {
        "id": "ZrOhSL7SO4wu"
      },
      "execution_count": 62,
      "outputs": []
    },
    {
      "cell_type": "code",
      "source": [
        "dataset"
      ],
      "metadata": {
        "colab": {
          "base_uri": "https://localhost:8080/"
        },
        "id": "tnWMKPajOiUo",
        "outputId": "10626141-51d6-43eb-adc7-a4d50e41f4b3"
      },
      "execution_count": 41,
      "outputs": [
        {
          "output_type": "execute_result",
          "data": {
            "text/plain": [
              "Dataset({\n",
              "    features: ['text'],\n",
              "    num_rows: 2000\n",
              "})"
            ]
          },
          "metadata": {},
          "execution_count": 41
        }
      ]
    },
    {
      "cell_type": "code",
      "source": [
        "texts = [simple_preprocess(art['text']) for art in dataset]"
      ],
      "metadata": {
        "id": "DfVVNiS1OvZ_"
      },
      "execution_count": 63,
      "outputs": []
    },
    {
      "cell_type": "code",
      "source": [
        "dataset = load_dataset(\"VishalMysore/cookGPT\", split=\"train\")"
      ],
      "metadata": {
        "id": "YhAuTQTOfhkp"
      },
      "execution_count": 76,
      "outputs": []
    },
    {
      "cell_type": "code",
      "source": [
        "dataset"
      ],
      "metadata": {
        "colab": {
          "base_uri": "https://localhost:8080/"
        },
        "id": "qlz-1gtc-K4V",
        "outputId": "7d7e981b-df03-4b3b-8121-0e3919e8168b"
      },
      "execution_count": 60,
      "outputs": [
        {
          "output_type": "execute_result",
          "data": {
            "text/plain": [
              "Dataset({\n",
              "    features: ['text'],\n",
              "    num_rows: 5938\n",
              "})"
            ]
          },
          "metadata": {},
          "execution_count": 60
        }
      ]
    },
    {
      "cell_type": "code",
      "source": [
        "texts = [simple_preprocess(art['text']) for art in dataset]"
      ],
      "metadata": {
        "id": "xi30VMPOf1g5"
      },
      "execution_count": 77,
      "outputs": []
    },
    {
      "cell_type": "code",
      "source": [
        "model = Word2Vec(texts, vector_size=200, window=5, min_count=1, workers=4)"
      ],
      "metadata": {
        "id": "Q1rvZ-HDRJYj"
      },
      "execution_count": 78,
      "outputs": []
    },
    {
      "cell_type": "code",
      "source": [
        "print(model.wv[\"country\"])"
      ],
      "metadata": {
        "colab": {
          "base_uri": "https://localhost:8080/"
        },
        "id": "imMcsaNYTtNS",
        "outputId": "309b2bed-9037-40b9-9a14-6734371e6f7e"
      },
      "execution_count": 74,
      "outputs": [
        {
          "output_type": "stream",
          "name": "stdout",
          "text": [
            "[ 7.71433860e-02 -4.05825943e-01  1.08757712e-01  1.28278825e-02\n",
            "  2.54435837e-01 -3.98934513e-01  7.90557981e-01  1.49966168e+00\n",
            " -8.98354352e-01  1.14174038e-01  9.13140699e-02 -6.48717284e-01\n",
            " -4.76301014e-01  7.17278421e-01 -6.26229525e-01 -2.00451851e-01\n",
            " -3.75999480e-01  5.21578848e-01 -5.04613042e-01 -1.27950132e+00\n",
            " -2.43471488e-02  1.09894045e-01  6.79981470e-01  9.45586339e-02\n",
            "  6.97531939e-01  8.30232143e-01 -3.57158661e-01 -2.21310258e-01\n",
            " -1.12156816e-01 -2.26997226e-01  4.71675962e-01  4.54964936e-01\n",
            "  1.04070604e+00  2.07372636e-01 -4.14222479e-01 -1.29457461e-02\n",
            "  8.13634157e-01 -4.07134503e-01  1.45183727e-01 -5.73144972e-01\n",
            " -6.06565475e-02 -3.13434631e-01  1.75828338e-01 -5.06882071e-01\n",
            "  2.32752715e-03  1.82506323e-01 -3.34888995e-01  5.03566563e-01\n",
            " -1.60164163e-01 -1.82029888e-01 -1.66595072e-01 -5.83310891e-03\n",
            "  3.81165594e-01 -4.53197002e-01  4.96967494e-01  2.28394166e-01\n",
            " -3.64060998e-01 -7.40542769e-01 -2.48551473e-01 -1.29336342e-01\n",
            " -2.42273986e-01 -1.59404557e-02  1.38959467e-01 -3.51799428e-01\n",
            " -6.13606036e-01 -2.36988533e-02  3.27944160e-01  1.47466671e+00\n",
            "  5.49316183e-02  7.10305870e-01 -2.85880506e-01  7.94317186e-01\n",
            "  1.37418598e-01 -1.97094828e-01  3.94449145e-01  2.49700233e-01\n",
            "  3.74443084e-01  2.80694306e-01 -3.45467299e-01 -4.79307234e-01\n",
            " -7.15739606e-03 -6.94002628e-01 -1.85922220e-01  5.63228488e-01\n",
            " -5.38481355e-01  5.39556086e-01  1.32825807e-01 -6.88765645e-01\n",
            " -2.51939148e-01  8.00437182e-02  4.13941234e-01  6.10937476e-02\n",
            "  3.01130787e-02  4.05224115e-01  5.75624704e-01  6.06001258e-01\n",
            "  3.75960730e-02  2.66298890e-01  3.97138327e-01 -4.83938396e-01\n",
            " -6.48558080e-01  2.88080335e-01 -2.03936279e-01  5.96204512e-02\n",
            "  1.37287527e-01 -6.62906110e-01  1.03356466e-01  7.23418891e-01\n",
            " -6.91813290e-01 -6.98763967e-01 -4.62887846e-02 -8.74863386e-01\n",
            " -6.20424971e-02 -8.62398446e-01  3.11756283e-01  5.48963070e-01\n",
            "  2.27406889e-01  2.51308590e-01 -2.89030612e-01 -1.04865491e+00\n",
            "  3.17933351e-01  2.42945030e-01  3.52611423e-01 -6.99022710e-01\n",
            " -5.55579886e-02 -2.96543956e-01 -6.57199204e-01 -5.44332206e-01\n",
            "  3.75152469e-01  8.98536265e-01 -2.12569848e-01 -3.34731251e-01\n",
            "  8.68782923e-02 -5.75494468e-01 -6.09761924e-02  1.06842875e+00\n",
            "  1.68907389e-01 -1.92657173e-01  2.47115158e-02 -4.70862359e-01\n",
            "  1.04710257e+00 -8.79172027e-01 -5.30653417e-01 -8.55412185e-02\n",
            "  1.55109510e-01 -4.76188570e-01  1.24122642e-01  5.21540921e-03\n",
            "  3.98150861e-01  1.11548580e-01  4.38938349e-01 -1.26047403e-01\n",
            "  7.55677164e-01 -4.41483594e-03 -7.71266162e-01  5.62669039e-01\n",
            " -1.96736917e-01  3.54839444e-01 -1.01450027e-03  2.43677780e-01\n",
            "  3.74988347e-01  1.56079575e-01 -6.36942238e-02 -4.47543055e-01\n",
            "  3.70133668e-01  4.69567418e-01  3.94832551e-01 -5.51820040e-01\n",
            " -6.68957949e-01 -3.73245418e-01  1.60816714e-01 -1.36025585e-02\n",
            "  3.22595865e-01  1.68174714e-01 -4.11082596e-01  6.99793458e-01\n",
            " -4.54942375e-01  4.18562412e-01  5.18572964e-02  9.26839113e-02\n",
            " -3.59989877e-04  3.10062855e-01 -4.92775291e-02 -3.03920954e-01\n",
            " -1.74539477e-01  2.40847990e-01  6.83377147e-01  1.79856569e-01\n",
            "  6.19486868e-01  8.65111277e-02  3.89854282e-01  3.53236616e-01\n",
            " -6.46595597e-01 -7.79917955e-01 -8.11764479e-01  4.46787447e-01\n",
            " -3.57396036e-01 -3.90716672e-01  6.07533634e-01 -5.85151017e-01]\n"
          ]
        }
      ]
    },
    {
      "cell_type": "code",
      "source": [
        "model = Word2Vec(texts, vector_size=200, window=5, min_count=1, workers=4)"
      ],
      "metadata": {
        "id": "ewrVf-veXsXQ"
      },
      "execution_count": 51,
      "outputs": []
    },
    {
      "cell_type": "code",
      "source": [
        "print(model.wv[\"curry\"])"
      ],
      "metadata": {
        "colab": {
          "base_uri": "https://localhost:8080/"
        },
        "id": "wO2A3tkUXw9a",
        "outputId": "bc5e8a5b-307f-4b58-fa5b-5967cc32d679"
      },
      "execution_count": 79,
      "outputs": [
        {
          "output_type": "stream",
          "name": "stdout",
          "text": [
            "[-0.6449355  -0.16600572  0.65637714  0.6139747  -1.114005    0.59743875\n",
            " -0.75153863  0.02248816  0.09341598 -1.0115138   0.49911708 -0.9733342\n",
            "  1.1641619   2.4645488  -0.76755494 -0.9487304   0.4373897  -1.5327953\n",
            " -0.06228069  2.555225   -1.0830663   0.65158474 -1.8286058  -0.18413395\n",
            "  0.3214392  -0.05137096  0.7704669  -1.9463527  -1.5842938   0.73009074\n",
            " -1.1924165  -0.81805706 -0.10811521  1.2913295  -0.8991021  -1.5573798\n",
            "  0.41917402 -0.76455057  1.7474304   1.1556249   0.76353    -1.4861491\n",
            " -1.3281822  -0.45075983  0.064293   -0.8083985  -0.2136378  -0.77848953\n",
            " -0.01688977  1.5608721   0.03600923 -0.47788924 -0.3932481  -0.62904495\n",
            " -0.14549692 -1.0665908  -1.731863    0.6704712   0.8777108  -1.4174439\n",
            "  1.0212926  -0.3393248  -1.0152375  -0.8103006  -0.4828903  -2.9464033\n",
            " -0.3061676   0.0559967   1.9267671  -0.29828373  0.41823375 -2.6112015\n",
            " -1.0483311   1.1762062  -0.73183125  1.2328616  -1.888158    1.2096367\n",
            "  2.992204    0.76457596 -1.267939   -1.8102813   0.01309838  0.03281611\n",
            "  1.7477983   1.2119961  -0.33906266  1.5649142   1.2640743   0.1305197\n",
            " -0.24284585  1.3184304  -0.7227891  -2.375019   -0.04033624 -2.8846693\n",
            " -0.84250873  2.3204684   1.0369862   1.394099    2.305098   -1.285515\n",
            " -0.35283265 -0.08926902 -0.41706297  0.5294694  -0.5584759  -1.3717741\n",
            " -1.6599762   1.8179786  -2.1067548   0.32753626 -1.4004323  -2.3974316\n",
            "  0.21257488  0.58209765  0.34037182 -0.38184077 -1.2056427  -1.1054788\n",
            "  0.5465823   0.03953015 -1.5515373  -0.0551715   1.5264653  -1.2551513\n",
            "  1.2646658  -0.30461097  0.08191835  0.37992194 -0.40876165 -0.9997947\n",
            "  0.61076874  0.3446858   0.50002146 -1.6811216   0.4405515  -0.5930898\n",
            "  1.1547339   0.51555765 -0.11989768  0.87027407  0.16131513 -1.8098736\n",
            "  0.6350583  -1.1024541  -0.19763322  1.7545998  -0.5446565   1.603365\n",
            " -0.21702926 -0.97586095 -0.5356971  -1.3925892  -0.24472128  0.5186597\n",
            " -1.54899     1.2694889   0.39626157 -0.40413678 -0.01941651  1.5466707\n",
            " -0.85518247 -0.09277029 -0.65657085  0.1537488   0.03842515  1.2872819\n",
            "  1.0688125  -2.3017175  -0.38961935 -0.04701168  0.18079908 -0.10946354\n",
            " -2.3284228   0.9827038   0.24629629 -1.8255209   0.40201482  0.92539495\n",
            "  3.468096   -3.3829112  -1.3617147   0.72916657 -0.4134023   1.0276802\n",
            " -1.2910281  -1.6584177  -0.6936143   0.049298   -2.788968   -0.12333278\n",
            " -0.7139793   0.04060752 -1.6689203  -2.217699   -0.6298474   0.4806096\n",
            "  0.49934033  0.5541439 ]\n"
          ]
        }
      ]
    },
    {
      "cell_type": "code",
      "source": [
        "similar_words = model.wv.most_similar(positive=['paneer', 'masala', 'spice'], topn=10)\n",
        "print(similar_words)"
      ],
      "metadata": {
        "colab": {
          "base_uri": "https://localhost:8080/"
        },
        "id": "wfN2b1OURU_C",
        "outputId": "f0b36ce0-d090-4a48-a21b-5c6914020b79"
      },
      "execution_count": 80,
      "outputs": [
        {
          "output_type": "stream",
          "name": "stdout",
          "text": [
            "[('spices', 0.51334547996521), ('powders', 0.49869391322135925), ('masalas', 0.4770452678203583), ('amchoor', 0.4132078289985657), ('chicken', 0.41215088963508606), ('including', 0.4067543148994446), ('secs', 0.40314871072769165), ('freshly', 0.3988073170185089), ('asafoedita', 0.38405483961105347), ('chillie', 0.37987735867500305)]\n"
          ]
        }
      ]
    },
    {
      "cell_type": "code",
      "source": [
        "similar_words = model.wv.most_similar(positive=['country', 'history', 'population'], topn=10)\n",
        "print(similar_words)"
      ],
      "metadata": {
        "colab": {
          "base_uri": "https://localhost:8080/"
        },
        "id": "rkK992yqCaZt",
        "outputId": "2131b32b-eb7a-4795-b691-4b95e1cc9d62"
      },
      "execution_count": 75,
      "outputs": [
        {
          "output_type": "stream",
          "name": "stdout",
          "text": [
            "[('crisis', 0.9217091202735901), ('nation', 0.9191784858703613), ('economy', 0.9116148352622986), ('region', 0.9039095640182495), ('study', 0.8893676996231079), ('terms', 0.8882991671562195), ('conflict', 0.8863515257835388), ('cities', 0.8856520056724548), ('manner', 0.8838774561882019), ('europe', 0.8837443590164185)]\n"
          ]
        }
      ]
    },
    {
      "cell_type": "code",
      "source": [
        "import numpy as np\n",
        "import matplotlib.pyplot as plt\n",
        "from sklearn.manifold import TSNE\n",
        "\n",
        "# Extract the words and their vectors\n",
        "words = [word for word, _ in similar_words]\n",
        "word_vectors = np.array([model.wv[word] for word in words])\n",
        "\n",
        "# Perform dimensionality reduction using t-SNE\n",
        "tsne = TSNE(n_components=2, random_state=42, perplexity=9)\n",
        "word_vectors_2d = tsne.fit_transform(word_vectors)\n",
        "\n",
        "# Plot the words and their 2D vectors\n",
        "plt.figure(figsize=(8, 8))\n",
        "plt.scatter(word_vectors_2d[:, 0], word_vectors_2d[:, 1], c='red', edgecolors='k')\n",
        "\n",
        "# Annotate the points with their respective words\n",
        "for i, word in enumerate(words):\n",
        "    plt.annotate(word, xy=(word_vectors_2d[i, 0], word_vectors_2d[i, 1]), xytext=(5, 2),\n",
        "                 textcoords='offset points', ha='right', va='bottom')\n",
        "\n",
        "plt.title('t-SNE visualization of word vectors')\n",
        "plt.xlabel('time')\n",
        "plt.ylabel('ingredients')\n",
        "plt.show()"
      ],
      "metadata": {
        "colab": {
          "base_uri": "https://localhost:8080/",
          "height": 718
        },
        "id": "f0_XPWBrBvCs",
        "outputId": "ff0d495c-8d92-4e2f-b140-f86428e11bae"
      },
      "execution_count": 82,
      "outputs": [
        {
          "output_type": "display_data",
          "data": {
            "text/plain": [
              "<Figure size 800x800 with 1 Axes>"
            ],
            "image/png": "[encoded data removed]"
          },
          "metadata": {}
        }
      ]
    }
  ]
}
{
  "nbformat": 4,
  "nbformat_minor": 0,
  "metadata": {
    "colab": {
      "provenance": [],
      "authorship_tag": "ABX9TyMvE0Guv3k4Gwmo1cs1IIx+",
      "include_colab_link": true
    },
    "kernelspec": {
      "name": "python3",
      "display_name": "Python 3"
    },
    "language_info": {
      "name": "python"
    }
  },
  "cells": [
    {
      "cell_type": "markdown",
      "metadata": {
        "id": "view-in-github",
        "colab_type": "text"
      },
      "source": [
        "<a href=\"https://colab.research.google.com/github/vishalmysore/AI/blob/main/examples/quantization/embeddings.ipynb\" target=\"_parent\"><img src=\"https://colab.research.google.com/assets/colab-badge.svg\" alt=\"Open In Colab\"/></a>"
      ]
    },
    {
      "cell_type": "code",
      "execution_count": 1,
      "metadata": {
        "colab": {
          "base_uri": "https://localhost:8080/"
        },
        "id": "IMGH8-bJmF3E",
        "outputId": "efcdf570-8edb-4672-e1b0-468a48707d93"
      },
      "outputs": [
        {
          "output_type": "stream",
          "name": "stdout",
          "text": [
            "Requirement already satisfied: gensim in /usr/local/lib/python3.10/dist-packages (4.3.2)\n",
            "Requirement already satisfied: numpy>=1.18.5 in /usr/local/lib/python3.10/dist-packages (from gensim) (1.23.5)\n",
            "Requirement already satisfied: scipy>=1.7.0 in /usr/local/lib/python3.10/dist-packages (from gensim) (1.11.4)\n",
            "Requirement already satisfied: smart-open>=1.8.1 in /usr/local/lib/python3.10/dist-packages (from gensim) (6.4.0)\n"
          ]
        }
      ],
      "source": [
        "!pip install gensim"
      ]
    },
    {
      "cell_type": "code",
      "source": [
        "!pip install transformers"
      ],
      "metadata": {
        "colab": {
          "base_uri": "https://localhost:8080/"
        },
        "id": "jChgTqjymSIi",
        "outputId": "4b275c27-b103-46d7-c211-43d9349eebfe"
      },
      "execution_count": 2,
      "outputs": [
        {
          "output_type": "stream",
          "name": "stdout",
          "text": [
            "Requirement already satisfied: transformers in /usr/local/lib/python3.10/dist-packages (4.35.2)\n",
            "Requirement already satisfied: filelock in /usr/local/lib/python3.10/dist-packages (from transformers) (3.13.1)\n",
            "Requirement already satisfied: huggingface-hub<1.0,>=0.16.4 in /usr/local/lib/python3.10/dist-packages (from transformers) (0.20.2)\n",
            "Requirement already satisfied: numpy>=1.17 in /usr/local/lib/python3.10/dist-packages (from transformers) (1.23.5)\n",
            "Requirement already satisfied: packaging>=20.0 in /usr/local/lib/python3.10/dist-packages (from transformers) (23.2)\n",
            "Requirement already satisfied: pyyaml>=5.1 in /usr/local/lib/python3.10/dist-packages (from transformers) (6.0.1)\n",
            "Requirement already satisfied: regex!=2019.12.17 in /usr/local/lib/python3.10/dist-packages (from transformers) (2023.6.3)\n",
            "Requirement already satisfied: requests in /usr/local/lib/python3.10/dist-packages (from transformers) (2.31.0)\n",
            "Requirement already satisfied: tokenizers<0.19,>=0.14 in /usr/local/lib/python3.10/dist-packages (from transformers) (0.15.0)\n",
            "Requirement already satisfied: safetensors>=0.3.1 in /usr/local/lib/python3.10/dist-packages (from transformers) (0.4.1)\n",
            "Requirement already satisfied: tqdm>=4.27 in /usr/local/lib/python3.10/dist-packages (from transformers) (4.66.1)\n",
            "Requirement already satisfied: fsspec>=2023.5.0 in /usr/local/lib/python3.10/dist-packages (from huggingface-hub<1.0,>=0.16.4->transformers) (2023.6.0)\n",
            "Requirement already satisfied: typing-extensions>=3.7.4.3 in /usr/local/lib/python3.10/dist-packages (from huggingface-hub<1.0,>=0.16.4->transformers) (4.5.0)\n",
            "Requirement already satisfied: charset-normalizer<4,>=2 in /usr/local/lib/python3.10/dist-packages (from requests->transformers) (3.3.2)\n",
            "Requirement already satisfied: idna<4,>=2.5 in /usr/local/lib/python3.10/dist-packages (from requests->transformers) (3.6)\n",
            "Requirement already satisfied: urllib3<3,>=1.21.1 in /usr/local/lib/python3.10/dist-packages (from requests->transformers) (2.0.7)\n",
            "Requirement already satisfied: certifi>=2017.4.17 in /usr/local/lib/python3.10/dist-packages (from requests->transformers) (2023.11.17)\n"
          ]
        }
      ]
    },
    {
      "cell_type": "code",
      "source": [
        "!pip install datasets word2vec"
      ],
      "metadata": {
        "colab": {
          "base_uri": "https://localhost:8080/"
        },
        "id": "BSjKWCSXneY3",
        "outputId": "cdc89377-c644-48c1-c1d2-75dea6f7430d"
      },
      "execution_count": 3,
      "outputs": [
        {
          "output_type": "stream",
          "name": "stdout",
          "text": [
            "Requirement already satisfied: datasets in /usr/local/lib/python3.10/dist-packages (2.16.1)\n",
            "Requirement already satisfied: word2vec in /usr/local/lib/python3.10/dist-packages (0.11.1)\n",
            "Requirement already satisfied: filelock in /usr/local/lib/python3.10/dist-packages (from datasets) (3.13.1)\n",
            "Requirement already satisfied: numpy>=1.17 in /usr/local/lib/python3.10/dist-packages (from datasets) (1.23.5)\n",
            "Requirement already satisfied: pyarrow>=8.0.0 in /usr/local/lib/python3.10/dist-packages (from datasets) (10.0.1)\n",
            "Requirement already satisfied: pyarrow-hotfix in /usr/local/lib/python3.10/dist-packages (from datasets) (0.6)\n",
            "Requirement already satisfied: dill<0.3.8,>=0.3.0 in /usr/local/lib/python3.10/dist-packages (from datasets) (0.3.7)\n",
            "Requirement already satisfied: pandas in /usr/local/lib/python3.10/dist-packages (from datasets) (1.5.3)\n",
            "Requirement already satisfied: requests>=2.19.0 in /usr/local/lib/python3.10/dist-packages (from datasets) (2.31.0)\n",
            "Requirement already satisfied: tqdm>=4.62.1 in /usr/local/lib/python3.10/dist-packages (from datasets) (4.66.1)\n",
            "Requirement already satisfied: xxhash in /usr/local/lib/python3.10/dist-packages (from datasets) (3.4.1)\n",
            "Requirement already satisfied: multiprocess in /usr/local/lib/python3.10/dist-packages (from datasets) (0.70.15)\n",
            "Requirement already satisfied: fsspec[http]<=2023.10.0,>=2023.1.0 in /usr/local/lib/python3.10/dist-packages (from datasets) (2023.6.0)\n",
            "Requirement already satisfied: aiohttp in /usr/local/lib/python3.10/dist-packages (from datasets) (3.9.1)\n",
            "Requirement already satisfied: huggingface-hub>=0.19.4 in /usr/local/lib/python3.10/dist-packages (from datasets) (0.20.2)\n",
            "Requirement already satisfied: packaging in /usr/local/lib/python3.10/dist-packages (from datasets) (23.2)\n",
            "Requirement already satisfied: pyyaml>=5.1 in /usr/local/lib/python3.10/dist-packages (from datasets) (6.0.1)\n",
            "Requirement already satisfied: joblib in /usr/local/lib/python3.10/dist-packages (from word2vec) (1.3.2)\n",
            "Requirement already satisfied: attrs>=17.3.0 in /usr/local/lib/python3.10/dist-packages (from aiohttp->datasets) (23.2.0)\n",
            "Requirement already satisfied: multidict<7.0,>=4.5 in /usr/local/lib/python3.10/dist-packages (from aiohttp->datasets) (6.0.4)\n",
            "Requirement already satisfied: yarl<2.0,>=1.0 in /usr/local/lib/python3.10/dist-packages (from aiohttp->datasets) (1.9.4)\n",
            "Requirement already satisfied: frozenlist>=1.1.1 in /usr/local/lib/python3.10/dist-packages (from aiohttp->datasets) (1.4.1)\n",
            "Requirement already satisfied: aiosignal>=1.1.2 in /usr/local/lib/python3.10/dist-packages (from aiohttp->datasets) (1.3.1)\n",
            "Requirement already satisfied: async-timeout<5.0,>=4.0 in /usr/local/lib/python3.10/dist-packages (from aiohttp->datasets) (4.0.3)\n",
            "Requirement already satisfied: typing-extensions>=3.7.4.3 in /usr/local/lib/python3.10/dist-packages (from huggingface-hub>=0.19.4->datasets) (4.5.0)\n",
            "Requirement already satisfied: charset-normalizer<4,>=2 in /usr/local/lib/python3.10/dist-packages (from requests>=2.19.0->datasets) (3.3.2)\n",
            "Requirement already satisfied: idna<4,>=2.5 in /usr/local/lib/python3.10/dist-packages (from requests>=2.19.0->datasets) (3.6)\n",
            "Requirement already satisfied: urllib3<3,>=1.21.1 in /usr/local/lib/python3.10/dist-packages (from requests>=2.19.0->datasets) (2.0.7)\n",
            "Requirement already satisfied: certifi>=2017.4.17 in /usr/local/lib/python3.10/dist-packages (from requests>=2.19.0->datasets) (2023.11.17)\n",
            "Requirement already satisfied: python-dateutil>=2.8.1 in /usr/local/lib/python3.10/dist-packages (from pandas->datasets) (2.8.2)\n",
            "Requirement already satisfied: pytz>=2020.1 in /usr/local/lib/python3.10/dist-packages (from pandas->datasets) (2023.3.post1)\n",
            "Requirement already satisfied: six>=1.5 in /usr/local/lib/python3.10/dist-packages (from python-dateutil>=2.8.1->pandas->datasets) (1.16.0)\n"
          ]
        }
      ]
    },
    {
      "cell_type": "code",
      "source": [
        "!pip install numpy"
      ],
      "metadata": {
        "colab": {
          "base_uri": "https://localhost:8080/"
        },
        "id": "86r1ef4_jhvW",
        "outputId": "f82753c1-6fd4-4034-882a-352c332c37cf"
      },
      "execution_count": 9,
      "outputs": [
        {
          "output_type": "stream",
          "name": "stdout",
          "text": [
            "Requirement already satisfied: numpy in /usr/local/lib/python3.10/dist-packages (1.23.5)\n"
          ]
        }
      ]
    },
    {
      "cell_type": "code",
      "source": [
        "from datasets import load_dataset\n",
        "from gensim.models import Word2Vec\n",
        "from gensim.utils import simple_preprocess"
      ],
      "metadata": {
        "id": "TTZOnohSmVQ8"
      },
      "execution_count": 4,
      "outputs": []
    },
    {
      "cell_type": "code",
      "source": [
        "\n",
        "dataset = load_dataset(\"VishalMysore/cookGPT\", split=\"train\")"
      ],
      "metadata": {
        "id": "TNuZjhOSnsJn"
      },
      "execution_count": 5,
      "outputs": []
    },
    {
      "cell_type": "code",
      "source": [
        "\n",
        "texts = [simple_preprocess(art['text']) for art in dataset]"
      ],
      "metadata": {
        "id": "20ZXpfvOnvFO"
      },
      "execution_count": 6,
      "outputs": []
    },
    {
      "cell_type": "code",
      "source": [
        "\n",
        "model = Word2Vec(texts, vector_size=1, window=5, min_count=1, workers=4)"
      ],
      "metadata": {
        "id": "VW6JNXZAnxW_"
      },
      "execution_count": 7,
      "outputs": []
    },
    {
      "cell_type": "code",
      "source": [
        "model_16_bit = Word2Vec(texts, vector_size=1, window=5, min_count=1, workers=4)\n",
        "import numpy as np\n",
        "model_16_bit.wv.vectors = model.wv.vectors.astype(np.float16)"
      ],
      "metadata": {
        "id": "Q4TthX0Nifmj"
      },
      "execution_count": 10,
      "outputs": []
    },
    {
      "cell_type": "code",
      "source": [
        "vector_country=model.wv[\"country\"]\n",
        "vector_country_16_bit=model_16_bit.wv[\"country\"]\n",
        "print(\"32 bit\", vector_country)\n",
        "print(\"16 bit \",vector_country_16_bit)"
      ],
      "metadata": {
        "colab": {
          "base_uri": "https://localhost:8080/"
        },
        "id": "lVX9jRl2n2cn",
        "outputId": "34078dea-3b90-4c2e-8363-fa9162aff584"
      },
      "execution_count": 13,
      "outputs": [
        {
          "output_type": "stream",
          "name": "stdout",
          "text": [
            "32 bit [-0.7488811]\n",
            " 16 bit  [-0.749]\n"
          ]
        }
      ]
    },
    {
      "cell_type": "code",
      "source": [
        "embedding_precision = model.wv.vectors.dtype\n",
        "embedding_precision_16_bit = model_16_bit.wv.vectors.dtype\n",
        "\n",
        "# Print the precision\n",
        "print(\"Embedding Precision in 32 bit:\", embedding_precision)\n",
        "print(\"Embedding Precision in 16 bit:\", embedding_precision_16_bit)"
      ],
      "metadata": {
        "colab": {
          "base_uri": "https://localhost:8080/"
        },
        "id": "QmXSW1jRao4X",
        "outputId": "da064221-3a65-4cd3-c7e9-3cc8de03f468"
      },
      "execution_count": 16,
      "outputs": [
        {
          "output_type": "stream",
          "name": "stdout",
          "text": [
            "Embedding Precision in 32 bit: float32\n",
            "Embedding Precision in 16 bit: float16\n"
          ]
        }
      ]
    },
    {
      "cell_type": "code",
      "source": [
        "embedding_size_bytes = model.wv.vectors.nbytes\n",
        "embedding_size_bytes_16_bit = model_16_bit.wv.vectors.nbytes\n",
        "\n",
        "# Convert to megabytes for a more readable output\n",
        "embedding_size_megabytes = embedding_size_bytes / (1024 ** 2)\n",
        "embedding_size_megabytes_16_bit = embedding_size_bytes_16_bit / (1024 ** 2)\n",
        "\n",
        "# Print the size\n",
        "print(f\"Size of embeddings 32 bit: {embedding_size_megabytes:.2f} MB\")\n",
        "print(f\"Size of embeddings 16 bit: {embedding_size_megabytes_16_bit:.2f} MB\")"
      ],
      "metadata": {
        "colab": {
          "base_uri": "https://localhost:8080/"
        },
        "id": "lKbiqw06a7OF",
        "outputId": "f09e1fcf-6417-470d-ad81-146e693b7ac5"
      },
      "execution_count": 18,
      "outputs": [
        {
          "output_type": "stream",
          "name": "stdout",
          "text": [
            "Size of embeddings 32 bit: 0.04 MB\n",
            "Size of embeddings 16 bit: 0.02 MB\n"
          ]
        }
      ]
    },
    {
      "cell_type": "code",
      "source": [
        "def print_model_details(model):\n",
        "  # Get the details about embeddings\n",
        "  num_embeddings = len(model.wv.index_to_key)\n",
        "  embedding_dimension = model.vector_size\n",
        "  embedding_size_bytes = model.wv.vectors.nbytes\n",
        "\n",
        "  # Convert to megabytes for a more readable output\n",
        "  embedding_size_megabytes = embedding_size_bytes / (1024 ** 2)\n",
        "\n",
        "  # Print the details\n",
        "  print(f\"Number of Embeddings: {num_embeddings}\")\n",
        "  print(f\"Dimension of Each Vector: {embedding_dimension}\")\n",
        "  print(f\"Total Size of Embeddings: {embedding_size_megabytes:.2f} MB\")\n",
        "\n",
        "print(\"32 bit model details\")\n",
        "print_model_details(model)\n",
        "print(\"=========================\")\n",
        "print(\"16 bit model details\")\n",
        "print_model_details(model_16_bit)"
      ],
      "metadata": {
        "colab": {
          "base_uri": "https://localhost:8080/"
        },
        "id": "21gI4yVAbQWs",
        "outputId": "3e19b824-6ed8-4aba-a2ca-b2149194305f"
      },
      "execution_count": 21,
      "outputs": [
        {
          "output_type": "stream",
          "name": "stdout",
          "text": [
            "32 bit model details\n",
            "Number of Embeddings: 10951\n",
            "Dimension of Each Vector: 1\n",
            "Total Size of Embeddings: 0.04 MB\n",
            "=========================\n",
            "16 bit model details\n",
            "Number of Embeddings: 10951\n",
            "Dimension of Each Vector: 1\n",
            "Total Size of Embeddings: 0.02 MB\n"
          ]
        }
      ]
    },
    {
      "cell_type": "code",
      "source": [
        "def calcuate_size(model):\n",
        "  num_embeddings = len(model.wv.index_to_key)\n",
        "  embedding_dimension = model.vector_size\n",
        "  embedding_size_bytes = model.wv.vectors.nbytes\n",
        "# Calculate average size per embedding\n",
        "  average_size_per_embedding_bytes = embedding_size_bytes / num_embeddings\n",
        "\n",
        "  # Convert to kilobytes for a more readable output\n",
        "  average_size_per_embedding_kilobytes = average_size_per_embedding_bytes / 1024\n",
        "\n",
        "  # Print the details\n",
        "  print(f\"Number of Embeddings: {num_embeddings}\")\n",
        "  print(f\"Total Size of Embeddings: {embedding_size_bytes:.2f} bytes\")\n",
        "  print(f\"Average Size per Embedding in KB: {average_size_per_embedding_kilobytes:.2f} KB\")\n",
        "  print(f\"Dimension of Each Vector: {embedding_dimension}\")\n",
        "  print(f\"Bytes per Element: {embedding_size_bytes / (num_embeddings * embedding_dimension):.2f}\")\n",
        "  print(f\"Average Size per Embedding: {average_size_per_embedding_bytes:.2f} bytes\")\n",
        "\n",
        "calcuate_size(model)\n",
        "print(\"=========================\")\n",
        "calcuate_size(model_16_bit)"
      ],
      "metadata": {
        "colab": {
          "base_uri": "https://localhost:8080/"
        },
        "id": "xAC952NGbh0U",
        "outputId": "e0154418-d1e7-49b8-9626-49092a7438d4"
      },
      "execution_count": 23,
      "outputs": [
        {
          "output_type": "stream",
          "name": "stdout",
          "text": [
            "Number of Embeddings: 10951\n",
            "Total Size of Embeddings: 43804.00 bytes\n",
            "Average Size per Embedding in KB: 0.00 KB\n",
            "Dimension of Each Vector: 1\n",
            "Bytes per Element: 4.00\n",
            "Average Size per Embedding: 4.00 bytes\n",
            "=========================\n",
            "Number of Embeddings: 10951\n",
            "Total Size of Embeddings: 21902.00 bytes\n",
            "Average Size per Embedding in KB: 0.00 KB\n",
            "Dimension of Each Vector: 1\n",
            "Bytes per Element: 2.00\n",
            "Average Size per Embedding: 2.00 bytes\n"
          ]
        }
      ]
    },
    {
      "cell_type": "code",
      "source": [],
      "metadata": {
        "id": "viObMkeNdsXA"
      },
      "execution_count": 28,
      "outputs": []
    }
  ]
}
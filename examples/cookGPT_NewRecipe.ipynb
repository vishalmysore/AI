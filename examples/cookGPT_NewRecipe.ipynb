{
  "nbformat": 4,
  "nbformat_minor": 0,
  "metadata": {
    "colab": {
      "provenance": [],
      "authorship_tag": "ABX9TyOePYAbbtWdzUoA21bT4ssP",
      "include_colab_link": true
    },
    "kernelspec": {
      "name": "python3",
      "display_name": "Python 3"
    },
    "language_info": {
      "name": "python"
    }
  },
  "cells": [
    {
      "cell_type": "markdown",
      "metadata": {
        "id": "view-in-github",
        "colab_type": "text"
      },
      "source": [
        "<a href=\"https://colab.research.google.com/github/vishalmysore/AI/blob/main/cookGPT_NewRecipe.ipynb\" target=\"_parent\"><img src=\"https://colab.research.google.com/assets/colab-badge.svg\" alt=\"Open In Colab\"/></a>"
      ]
    },
    {
      "cell_type": "code",
      "source": [
        "!pip install openai"
      ],
      "metadata": {
        "colab": {
          "base_uri": "https://localhost:8080/"
        },
        "id": "5w7c4ok4WeNM",
        "outputId": "d4b085a5-99db-40ce-ced2-04fa2f041874"
      },
      "execution_count": null,
      "outputs": [
        {
          "output_type": "stream",
          "name": "stdout",
          "text": [
            "Requirement already satisfied: openai in /usr/local/lib/python3.10/dist-packages (1.3.7)\n",
            "Requirement already satisfied: anyio<4,>=3.5.0 in /usr/local/lib/python3.10/dist-packages (from openai) (3.7.1)\n",
            "Requirement already satisfied: distro<2,>=1.7.0 in /usr/lib/python3/dist-packages (from openai) (1.7.0)\n",
            "Requirement already satisfied: httpx<1,>=0.23.0 in /usr/local/lib/python3.10/dist-packages (from openai) (0.25.2)\n",
            "Requirement already satisfied: pydantic<3,>=1.9.0 in /usr/local/lib/python3.10/dist-packages (from openai) (1.10.13)\n",
            "Requirement already satisfied: sniffio in /usr/local/lib/python3.10/dist-packages (from openai) (1.3.0)\n",
            "Requirement already satisfied: tqdm>4 in /usr/local/lib/python3.10/dist-packages (from openai) (4.66.1)\n",
            "Requirement already satisfied: typing-extensions<5,>=4.5 in /usr/local/lib/python3.10/dist-packages (from openai) (4.5.0)\n",
            "Requirement already satisfied: idna>=2.8 in /usr/local/lib/python3.10/dist-packages (from anyio<4,>=3.5.0->openai) (3.6)\n",
            "Requirement already satisfied: exceptiongroup in /usr/local/lib/python3.10/dist-packages (from anyio<4,>=3.5.0->openai) (1.2.0)\n",
            "Requirement already satisfied: certifi in /usr/local/lib/python3.10/dist-packages (from httpx<1,>=0.23.0->openai) (2023.11.17)\n",
            "Requirement already satisfied: httpcore==1.* in /usr/local/lib/python3.10/dist-packages (from httpx<1,>=0.23.0->openai) (1.0.2)\n",
            "Requirement already satisfied: h11<0.15,>=0.13 in /usr/local/lib/python3.10/dist-packages (from httpcore==1.*->httpx<1,>=0.23.0->openai) (0.14.0)\n"
          ]
        }
      ]
    },
    {
      "cell_type": "code",
      "execution_count": null,
      "metadata": {
        "id": "N9-qWoXkWY9S",
        "colab": {
          "base_uri": "https://localhost:8080/"
        },
        "outputId": "8e2cd694-0824-464d-8a68-5d291515bc49"
      },
      "outputs": [
        {
          "output_type": "stream",
          "name": "stdout",
          "text": [
            "ChatCompletionMessage(content='Ingredients:\\n\\n4 eggs, hard-boiled and peeled\\n2 onions, finely chopped\\n2 tomatoes, pureed\\n1 tablespoon ginger-garlic paste\\n1 teaspoon cumin seeds\\n1 teaspoon coriander powder\\n1/2 teaspoon turmeric powder\\n1 teaspoon red chili powder (adjust to taste)\\n1/2 teaspoon garam masala\\nSalt to taste\\n2 tablespoons oil\\nFresh coriander leaves for garnish\\nInstructions:\\n\\nHeat oil in a pan, add cumin seeds, and let them splutter.\\nAdd onions and sauté until golden brown.\\nAdd ginger-garlic paste and sauté for a minute until the raw smell disappears.\\nAdd tomato puree, coriander powder, turmeric powder, red chili powder, and salt. Cook until the oil separates from the masala.\\nCut the boiled eggs in half and add them to the masala, letting them cook for a few minutes.\\nAdd garam masala and garnish with fresh coriander leaves.\\nServe hot with rice or bread.', role='assistant', function_call=None, tool_calls=None)\n",
            "ChatCompletionMessage(content='Recipe: Paneer-Onion Medley Delight\\n\\nIngredients:\\n\\n250g paneer, cubed\\n2 cups onions, thinly sliced\\n1 cup bell peppers, sliced\\n1 tablespoon ginger-garlic paste\\n1 teaspoon cumin seeds\\n1 teaspoon garam masala\\n1 teaspoon coriander powder\\n1/2 teaspoon turmeric powder\\nSalt to taste\\n2 tablespoons oil\\nFresh coriander leaves for garnish\\nInstructions:\\n\\nIn a pan, heat oil. Add cumin seeds and let them splutter.\\nAdd ginger-garlic paste and sauté until golden.\\nAdd onions and sauté until golden brown.\\nAdd bell peppers, garam masala, coriander powder, turmeric powder, and salt. Sauté for a few minutes.\\nAdd paneer cubes and cook for another 5 minutes.\\nGarnish with fresh coriander leaves.\\nServe hot as a delightful paneer-onion medley.\\nThis Paneer-Onion Medley Delight is a perfect blend of paneer and onions with a mix of aromatic spices, making it a flavorful and enticing dish.', role='assistant', function_call=None, tool_calls=None)\n"
          ]
        }
      ],
      "source": [
        "from openai import OpenAI\n",
        "import os\n",
        "from google.colab import userdata\n",
        "OPENAI_API_KEY=userdata.get('key')\n",
        "\n",
        "client = OpenAI(api_key=OPENAI_API_KEY\n",
        "    # Defaults to os.environ.get(\"OPENAI_API_KEY\")\n",
        "    # Otherwise use: api_key=\"Your_API_Key\",\n",
        ")\n",
        "\n",
        "##use the newly created fine tuned model\n",
        "completion = client.chat.completions.create(\n",
        "  model=\"ft:gpt-3.5-turbo-1106:personal::8TbtNa4M\",\n",
        "  messages=[\n",
        "    {\"role\": \"system\", \"content\": \"You are a helpful assistant.\"},\n",
        "    {\"role\": \"user\", \"content\": \"tell me recipe of egg curry\"}\n",
        "  ]\n",
        ")\n",
        "print(completion.choices[0].message)\n",
        "\n",
        "completion = client.chat.completions.create(\n",
        "  model=\"ft:gpt-3.5-turbo-1106:personal::8TbtNa4M\",\n",
        "  messages=[\n",
        "    {\"role\": \"system\", \"content\": \"You are a helpful assistant.\"},\n",
        "    {\"role\": \"user\", \"content\": \"create a new recipe based on paneer and onion also give it a fancy name for marketing\"}\n",
        "  ]\n",
        ")\n",
        "print(completion.choices[0].message)\n"
      ]
    }
  ]
}